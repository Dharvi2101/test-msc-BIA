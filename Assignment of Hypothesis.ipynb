{
 "cells": [
  {
   "cell_type": "code",
   "execution_count": 2,
   "id": "6fa503eb",
   "metadata": {},
   "outputs": [
    {
     "name": "stdout",
     "output_type": "stream",
     "text": [
      "8.23\n",
      "8\n"
     ]
    }
   ],
   "source": [
    "#1)\n",
    "n=32\n",
    "x=8.23\n",
    "sd=0.8   #sample Sd\n",
    "u=8 #pop mean\n",
    "print(x)\n",
    "print(u)\n",
    "#Ho :u=8\n",
    "#Ha :u>8"
   ]
  },
  {
   "cell_type": "code",
   "execution_count": 4,
   "id": "a61bbb27",
   "metadata": {},
   "outputs": [
    {
     "name": "stdout",
     "output_type": "stream",
     "text": [
      "1.6263455967290623\n",
      "0.05700016922518647\n"
     ]
    },
    {
     "data": {
      "text/plain": [
       "(6.662028812367957, 9.797971187632044)"
      ]
     },
     "execution_count": 4,
     "metadata": {},
     "output_type": "execute_result"
    }
   ],
   "source": [
    "#Using t-test \n",
    "import numpy as np\n",
    "from scipy import stats\n",
    "from scipy.stats import norm\n",
    "import math\n",
    "t=((x-u)*math.sqrt(32))/sd\n",
    "print(t)\n",
    "#p=stats.t.sf(t,31)\n",
    "p=stats.t.cdf(t,31)\n",
    "k=1-p\n",
    "print(k)\n",
    "#Here p>0.05 so,we accept Ho.\n",
    "stats.norm.interval(0.95,8.23,0.8)\n"
   ]
  },
  {
   "cell_type": "code",
   "execution_count": 6,
   "id": "12ddb838",
   "metadata": {},
   "outputs": [
    {
     "name": "stdout",
     "output_type": "stream",
     "text": [
      "-1.4054567378525997\n",
      "0.08390102877696066\n"
     ]
    },
    {
     "data": {
      "text/plain": [
       "(168.21619448348372, 189.3838055165163)"
      ]
     },
     "execution_count": 6,
     "metadata": {},
     "output_type": "execute_result"
    }
   ],
   "source": [
    "#2)\n",
    "n=40\n",
    "x=178.8\n",
    "sd=5.4\n",
    "u=180\n",
    "#Ho=180\n",
    "#H1<180\n",
    "#using t-test\n",
    "t=(x-u)/(sd/math.sqrt(40))\n",
    "print(t)\n",
    "#p=stats.t.sf(t,39)\n",
    "p=stats.t.cdf(t,39)\n",
    "print(p)\n",
    "#Here p>0.05 so,we accept Ho.\n",
    "stats.norm.interval(0.95,178.8,5.4)"
   ]
  },
  {
   "cell_type": "code",
   "execution_count": 8,
   "id": "08fcbac8",
   "metadata": {},
   "outputs": [
    {
     "name": "stdout",
     "output_type": "stream",
     "text": [
      "1.8257418583505554\n",
      "0.03910166008603366\n"
     ]
    }
   ],
   "source": [
    "#3)\n",
    "n=30\n",
    "x=1.36\n",
    "sd=0.18\n",
    "u=1.3\n",
    "#Ho: u=1.3(not more than 1.3)\n",
    "#H1: u>1.3\n",
    "\n",
    "t=(x-u)/(sd/math.sqrt(30))\n",
    "print(t)\n",
    "p=stats.t.cdf(t,29)\n",
    "k=1-p\n",
    "print(k)\n",
    "\n",
    "#Here p<0.05 so,we reject Ho"
   ]
  },
  {
   "cell_type": "code",
   "execution_count": 10,
   "id": "1e369469",
   "metadata": {},
   "outputs": [
    {
     "data": {
      "text/plain": [
       "0.001865813300384045"
      ]
     },
     "execution_count": 10,
     "metadata": {},
     "output_type": "execute_result"
    }
   ],
   "source": [
    "1-norm.cdf(2.90)"
   ]
  }
 ],
 "metadata": {
  "kernelspec": {
   "display_name": "Python 3 (ipykernel)",
   "language": "python",
   "name": "python3"
  },
  "language_info": {
   "codemirror_mode": {
    "name": "ipython",
    "version": 3
   },
   "file_extension": ".py",
   "mimetype": "text/x-python",
   "name": "python",
   "nbconvert_exporter": "python",
   "pygments_lexer": "ipython3",
   "version": "3.9.8"
  }
 },
 "nbformat": 4,
 "nbformat_minor": 5
}

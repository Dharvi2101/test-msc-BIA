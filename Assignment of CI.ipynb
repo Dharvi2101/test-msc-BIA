{
 "cells": [
  {
   "cell_type": "code",
   "execution_count": 1,
   "id": "4d88fc8b",
   "metadata": {},
   "outputs": [
    {
     "name": "stdout",
     "output_type": "stream",
     "text": [
      "(198.738325292158, 201.261674707842)\n",
      "(198.43943840429978, 201.56056159570022)\n",
      "(198.62230334813333, 201.37769665186667)\n"
     ]
    }
   ],
   "source": [
    "#1)\n",
    "import numpy as np\n",
    "from scipy import stats\n",
    "import math\n",
    "s_Mean=200\n",
    "s_SD=30\n",
    "s_n=2000\n",
    "p_n=3000000\n",
    "#Here pop SD not given so, we use t-test\n",
    "#94% of confidence interval\n",
    "\n",
    "m=stats.t.ppf(0.97,1999)\n",
    "print(stats.norm.interval(0.94,s_Mean,s_SD/math.sqrt(2000)))\n",
    "\n",
    "#98% of confidence interval\n",
    "k=stats.t.ppf(0.99,1999)\n",
    "print(stats.norm.interval(0.98,s_Mean,s_SD/math.sqrt(2000)))\n",
    "#96% of confidence interval\n",
    "\n",
    "n=stats.t.ppf(0.98,1999)\n",
    "print(stats.norm.interval(0.96,s_Mean,s_SD/math.sqrt(2000)))\n"
   ]
  },
  {
   "cell_type": "code",
   "execution_count": 2,
   "id": "7ef4ee93",
   "metadata": {},
   "outputs": [
    {
     "name": "stdout",
     "output_type": "stream",
     "text": [
      "1.6448536269514722\n",
      "1.8807936081512509\n",
      "0.8416212335729143\n"
     ]
    }
   ],
   "source": [
    "#2)\n",
    "from scipy.stats import norm\n",
    "#90% z-score\n",
    "print(stats.norm.ppf(0.95))\n",
    "\n",
    "#94% z-score\n",
    "print(norm.ppf(0.97))\n",
    "\n",
    "#60% z-score\n",
    "print(norm.ppf(0.80))"
   ]
  },
  {
   "cell_type": "code",
   "execution_count": 6,
   "id": "80f31c5a",
   "metadata": {},
   "outputs": [
    {
     "name": "stdout",
     "output_type": "stream",
     "text": [
      "0.9804863324188325\n",
      "2.1715446760080677\n",
      "2.796939504772804\n"
     ]
    }
   ],
   "source": [
    "#3)\n",
    "#n=25\n",
    "#95% t-score\n",
    "k=stats.t.ppf(0.975,24)\n",
    "m=stats.norm.cdf(k)\n",
    "print(m)\n",
    "\n",
    "#96% t-score\n",
    "print(stats.t.ppf(0.98,24))\n",
    "\n",
    "#99% t-score\n",
    "print(stats.t.ppf(0.995,24))"
   ]
  },
  {
   "cell_type": "code",
   "execution_count": 4,
   "id": "59c94f12",
   "metadata": {},
   "outputs": [
    {
     "name": "stdout",
     "output_type": "stream",
     "text": [
      "2.13184678133629\n",
      "( 9.286436543454341 , 16.91356345654566 )\n"
     ]
    }
   ],
   "source": [
    "#4) usind t test find CI of population mean\n",
    "c=0.90\n",
    "x=13.1\n",
    "s=4\n",
    "n=5\n",
    "import math\n",
    "t_score=stats.t.ppf(0.95,4)\n",
    "print(t_score)\n",
    "\n",
    "low=(x-t_score*s/math.sqrt(n))\n",
    "upp=(x+t_score*s/math.sqrt(n))\n",
    "print(\"(\",low,\",\",upp,\")\")"
   ]
  },
  {
   "cell_type": "code",
   "execution_count": 5,
   "id": "5f0d92e3",
   "metadata": {},
   "outputs": [
    {
     "name": "stdout",
     "output_type": "stream",
     "text": [
      "( 7.042110451497193 , 17.557889548502807 )\n"
     ]
    }
   ],
   "source": [
    "#5)using z test find CI of population mean\n",
    "c=0.99\n",
    "x=12.3\n",
    "SD=5\n",
    "n=6\n",
    "\n",
    "z_score=norm.ppf(0.995)\n",
    "low=(x-z_score*SD/math.sqrt(n))\n",
    "upp=(x+z_score*SD/math.sqrt(n))\n",
    "print(\"(\",low,\",\",upp,\")\")"
   ]
  },
  {
   "cell_type": "code",
   "execution_count": null,
   "id": "8231a553",
   "metadata": {},
   "outputs": [],
   "source": [
    "print(\"Hello\")"
   ]
  },
  {
   "cell_type": "code",
   "execution_count": null,
   "id": "7ae96c9b",
   "metadata": {},
   "outputs": [],
   "source": []
  }
 ],
 "metadata": {
  "kernelspec": {
   "display_name": "Python 3.10.2 64-bit",
   "language": "python",
   "name": "python3"
  },
  "language_info": {
   "codemirror_mode": {
    "name": "ipython",
    "version": 3
   },
   "file_extension": ".py",
   "mimetype": "text/x-python",
   "name": "python",
   "nbconvert_exporter": "python",
   "pygments_lexer": "ipython3",
   "version": "3.10.2"
  },
  "vscode": {
   "interpreter": {
    "hash": "76d7c06053c3456e5600312cec90888656fc0ed30c03d8425b9dac6e4fc8e014"
   }
  }
 },
 "nbformat": 4,
 "nbformat_minor": 5
}
